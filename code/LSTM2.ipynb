{
  "nbformat": 4,
  "nbformat_minor": 0,
  "metadata": {
    "colab": {
      "provenance": []
    },
    "kernelspec": {
      "name": "python3",
      "display_name": "Python 3"
    },
    "language_info": {
      "name": "python"
    }
  },
  "cells": [
    {
      "cell_type": "code",
      "source": [
        "!pip install keras-preprocessing"
      ],
      "metadata": {
        "colab": {
          "base_uri": "https://localhost:8080/"
        },
        "id": "GX-2Zb5HgdFf",
        "outputId": "1747fc66-72a4-40a1-c1f0-f50630fef9a8"
      },
      "execution_count": 43,
      "outputs": [
        {
          "output_type": "stream",
          "name": "stdout",
          "text": [
            "Looking in indexes: https://pypi.org/simple, https://us-python.pkg.dev/colab-wheels/public/simple/\n",
            "Requirement already satisfied: keras-preprocessing in /usr/local/lib/python3.9/dist-packages (1.1.2)\n",
            "Requirement already satisfied: numpy>=1.9.1 in /usr/local/lib/python3.9/dist-packages (from keras-preprocessing) (1.22.4)\n",
            "Requirement already satisfied: six>=1.9.0 in /usr/local/lib/python3.9/dist-packages (from keras-preprocessing) (1.16.0)\n"
          ]
        }
      ]
    },
    {
      "cell_type": "code",
      "execution_count": 44,
      "metadata": {
        "id": "yncTrZROgG3p"
      },
      "outputs": [],
      "source": [
        "import numpy as np # linear algebra\n",
        "import pandas as pd # data processing, CSV file I/O (e.g. pd.read_csv)\n",
        "from keras.layers import Dense, Embedding, LSTM, SpatialDropout1D, Input\n",
        "from keras.models import Sequential, Model\n",
        "from sklearn.feature_extraction.text import CountVectorizer\n",
        "from keras.preprocessing.text import Tokenizer\n",
        "from keras_preprocessing.sequence import pad_sequences\n",
        "from sklearn.model_selection import train_test_split\n",
        "from keras.utils.np_utils import to_categorical\n",
        "from keras.callbacks import EarlyStopping"
      ]
    },
    {
      "cell_type": "code",
      "source": [
        "df = pd.read_csv('drive/MyDrive/CSC413_data/leetcode.csv')\n",
        "\n",
        "df.sample(10)"
      ],
      "metadata": {
        "colab": {
          "base_uri": "https://localhost:8080/",
          "height": 870
        },
        "id": "h6QIpSCtgh-1",
        "outputId": "7d929f7b-fce2-4a9a-a35d-dfa3402d863f"
      },
      "execution_count": 45,
      "outputs": [
        {
          "output_type": "execute_result",
          "data": {
            "text/plain": [
              "                                            description  Array  \\\n",
              "1322  Given `numBottles` full water bottles, you can...      0   \n",
              "18    Given the `head` of a linked list, remove the ...      0   \n",
              "1552  You are given three positive integers: `n`, `i...      0   \n",
              "33    Given an array of integers `nums` sorted in as...      1   \n",
              "1570  You are given two integers, `m` and `k`, and a...      0   \n",
              "816   In an election, the `i`-th vote was cast for `...      0   \n",
              "725   We are given non-negative integers nums[i] whi...      0   \n",
              "1131  Given `head` which is a reference node to a si...      0   \n",
              "1342  Given a string `s`. An awesome substring is a ...      0   \n",
              "437   You are given an array of binary strings `strs...      0   \n",
              "\n",
              "      Dynamic Programming  String  Math  Tree  Depth-first Search  Greedy  \\\n",
              "1322                    0       0     0     0                   0       1   \n",
              "18                      0       0     0     0                   0       0   \n",
              "1552                    0       0     0     0                   0       1   \n",
              "33                      0       0     0     0                   0       0   \n",
              "1570                    0       0     0     0                   0       0   \n",
              "816                     0       0     0     0                   0       0   \n",
              "725                     0       0     1     0                   0       0   \n",
              "1131                    0       0     0     0                   0       0   \n",
              "1342                    0       1     0     0                   0       0   \n",
              "437                     1       0     0     0                   0       0   \n",
              "\n",
              "      Hash Table  Binary Search  ...  Random  Dequeue  Binary Search Tree  \\\n",
              "1322           0              0  ...       0        0                   0   \n",
              "18             0              0  ...       0        0                   0   \n",
              "1552           0              1  ...       0        0                   0   \n",
              "33             0              1  ...       0        0                   0   \n",
              "1570           0              0  ...       0        0                   0   \n",
              "816            0              1  ...       0        0                   0   \n",
              "725            0              0  ...       0        0                   0   \n",
              "1131           0              0  ...       0        0                   0   \n",
              "1342           0              0  ...       0        0                   0   \n",
              "437            0              0  ...       0        0                   0   \n",
              "\n",
              "      Suffix Array  Rolling Hash  Reservoir Sampling  Rejection Sampling  \\\n",
              "1322             0             0                   0                   0   \n",
              "18               0             0                   0                   0   \n",
              "1552             0             0                   0                   0   \n",
              "33               0             0                   0                   0   \n",
              "1570             0             0                   0                   0   \n",
              "816              0             0                   0                   0   \n",
              "725              0             0                   0                   0   \n",
              "1131             0             0                   0                   0   \n",
              "1342             0             0                   0                   0   \n",
              "437              0             0                   0                   0   \n",
              "\n",
              "      Memoization  OOP  Meet in the Middle  \n",
              "1322            0    0                   0  \n",
              "18              0    0                   0  \n",
              "1552            0    0                   0  \n",
              "33              0    0                   0  \n",
              "1570            0    0                   0  \n",
              "816             0    0                   0  \n",
              "725             0    0                   0  \n",
              "1131            0    0                   0  \n",
              "1342            0    0                   0  \n",
              "437             0    0                   0  \n",
              "\n",
              "[10 rows x 44 columns]"
            ],
            "text/html": [
              "\n",
              "  <div id=\"df-23bcb97b-6a44-4d4c-968e-b0ffe703f288\">\n",
              "    <div class=\"colab-df-container\">\n",
              "      <div>\n",
              "<style scoped>\n",
              "    .dataframe tbody tr th:only-of-type {\n",
              "        vertical-align: middle;\n",
              "    }\n",
              "\n",
              "    .dataframe tbody tr th {\n",
              "        vertical-align: top;\n",
              "    }\n",
              "\n",
              "    .dataframe thead th {\n",
              "        text-align: right;\n",
              "    }\n",
              "</style>\n",
              "<table border=\"1\" class=\"dataframe\">\n",
              "  <thead>\n",
              "    <tr style=\"text-align: right;\">\n",
              "      <th></th>\n",
              "      <th>description</th>\n",
              "      <th>Array</th>\n",
              "      <th>Dynamic Programming</th>\n",
              "      <th>String</th>\n",
              "      <th>Math</th>\n",
              "      <th>Tree</th>\n",
              "      <th>Depth-first Search</th>\n",
              "      <th>Greedy</th>\n",
              "      <th>Hash Table</th>\n",
              "      <th>Binary Search</th>\n",
              "      <th>...</th>\n",
              "      <th>Random</th>\n",
              "      <th>Dequeue</th>\n",
              "      <th>Binary Search Tree</th>\n",
              "      <th>Suffix Array</th>\n",
              "      <th>Rolling Hash</th>\n",
              "      <th>Reservoir Sampling</th>\n",
              "      <th>Rejection Sampling</th>\n",
              "      <th>Memoization</th>\n",
              "      <th>OOP</th>\n",
              "      <th>Meet in the Middle</th>\n",
              "    </tr>\n",
              "  </thead>\n",
              "  <tbody>\n",
              "    <tr>\n",
              "      <th>1322</th>\n",
              "      <td>Given `numBottles` full water bottles, you can...</td>\n",
              "      <td>0</td>\n",
              "      <td>0</td>\n",
              "      <td>0</td>\n",
              "      <td>0</td>\n",
              "      <td>0</td>\n",
              "      <td>0</td>\n",
              "      <td>1</td>\n",
              "      <td>0</td>\n",
              "      <td>0</td>\n",
              "      <td>...</td>\n",
              "      <td>0</td>\n",
              "      <td>0</td>\n",
              "      <td>0</td>\n",
              "      <td>0</td>\n",
              "      <td>0</td>\n",
              "      <td>0</td>\n",
              "      <td>0</td>\n",
              "      <td>0</td>\n",
              "      <td>0</td>\n",
              "      <td>0</td>\n",
              "    </tr>\n",
              "    <tr>\n",
              "      <th>18</th>\n",
              "      <td>Given the `head` of a linked list, remove the ...</td>\n",
              "      <td>0</td>\n",
              "      <td>0</td>\n",
              "      <td>0</td>\n",
              "      <td>0</td>\n",
              "      <td>0</td>\n",
              "      <td>0</td>\n",
              "      <td>0</td>\n",
              "      <td>0</td>\n",
              "      <td>0</td>\n",
              "      <td>...</td>\n",
              "      <td>0</td>\n",
              "      <td>0</td>\n",
              "      <td>0</td>\n",
              "      <td>0</td>\n",
              "      <td>0</td>\n",
              "      <td>0</td>\n",
              "      <td>0</td>\n",
              "      <td>0</td>\n",
              "      <td>0</td>\n",
              "      <td>0</td>\n",
              "    </tr>\n",
              "    <tr>\n",
              "      <th>1552</th>\n",
              "      <td>You are given three positive integers: `n`, `i...</td>\n",
              "      <td>0</td>\n",
              "      <td>0</td>\n",
              "      <td>0</td>\n",
              "      <td>0</td>\n",
              "      <td>0</td>\n",
              "      <td>0</td>\n",
              "      <td>1</td>\n",
              "      <td>0</td>\n",
              "      <td>1</td>\n",
              "      <td>...</td>\n",
              "      <td>0</td>\n",
              "      <td>0</td>\n",
              "      <td>0</td>\n",
              "      <td>0</td>\n",
              "      <td>0</td>\n",
              "      <td>0</td>\n",
              "      <td>0</td>\n",
              "      <td>0</td>\n",
              "      <td>0</td>\n",
              "      <td>0</td>\n",
              "    </tr>\n",
              "    <tr>\n",
              "      <th>33</th>\n",
              "      <td>Given an array of integers `nums` sorted in as...</td>\n",
              "      <td>1</td>\n",
              "      <td>0</td>\n",
              "      <td>0</td>\n",
              "      <td>0</td>\n",
              "      <td>0</td>\n",
              "      <td>0</td>\n",
              "      <td>0</td>\n",
              "      <td>0</td>\n",
              "      <td>1</td>\n",
              "      <td>...</td>\n",
              "      <td>0</td>\n",
              "      <td>0</td>\n",
              "      <td>0</td>\n",
              "      <td>0</td>\n",
              "      <td>0</td>\n",
              "      <td>0</td>\n",
              "      <td>0</td>\n",
              "      <td>0</td>\n",
              "      <td>0</td>\n",
              "      <td>0</td>\n",
              "    </tr>\n",
              "    <tr>\n",
              "      <th>1570</th>\n",
              "      <td>You are given two integers, `m` and `k`, and a...</td>\n",
              "      <td>0</td>\n",
              "      <td>0</td>\n",
              "      <td>0</td>\n",
              "      <td>0</td>\n",
              "      <td>0</td>\n",
              "      <td>0</td>\n",
              "      <td>0</td>\n",
              "      <td>0</td>\n",
              "      <td>0</td>\n",
              "      <td>...</td>\n",
              "      <td>0</td>\n",
              "      <td>0</td>\n",
              "      <td>0</td>\n",
              "      <td>0</td>\n",
              "      <td>0</td>\n",
              "      <td>0</td>\n",
              "      <td>0</td>\n",
              "      <td>0</td>\n",
              "      <td>0</td>\n",
              "      <td>0</td>\n",
              "    </tr>\n",
              "    <tr>\n",
              "      <th>816</th>\n",
              "      <td>In an election, the `i`-th vote was cast for `...</td>\n",
              "      <td>0</td>\n",
              "      <td>0</td>\n",
              "      <td>0</td>\n",
              "      <td>0</td>\n",
              "      <td>0</td>\n",
              "      <td>0</td>\n",
              "      <td>0</td>\n",
              "      <td>0</td>\n",
              "      <td>1</td>\n",
              "      <td>...</td>\n",
              "      <td>0</td>\n",
              "      <td>0</td>\n",
              "      <td>0</td>\n",
              "      <td>0</td>\n",
              "      <td>0</td>\n",
              "      <td>0</td>\n",
              "      <td>0</td>\n",
              "      <td>0</td>\n",
              "      <td>0</td>\n",
              "      <td>0</td>\n",
              "    </tr>\n",
              "    <tr>\n",
              "      <th>725</th>\n",
              "      <td>We are given non-negative integers nums[i] whi...</td>\n",
              "      <td>0</td>\n",
              "      <td>0</td>\n",
              "      <td>0</td>\n",
              "      <td>1</td>\n",
              "      <td>0</td>\n",
              "      <td>0</td>\n",
              "      <td>0</td>\n",
              "      <td>0</td>\n",
              "      <td>0</td>\n",
              "      <td>...</td>\n",
              "      <td>0</td>\n",
              "      <td>0</td>\n",
              "      <td>0</td>\n",
              "      <td>0</td>\n",
              "      <td>0</td>\n",
              "      <td>0</td>\n",
              "      <td>0</td>\n",
              "      <td>0</td>\n",
              "      <td>0</td>\n",
              "      <td>0</td>\n",
              "    </tr>\n",
              "    <tr>\n",
              "      <th>1131</th>\n",
              "      <td>Given `head` which is a reference node to a si...</td>\n",
              "      <td>0</td>\n",
              "      <td>0</td>\n",
              "      <td>0</td>\n",
              "      <td>0</td>\n",
              "      <td>0</td>\n",
              "      <td>0</td>\n",
              "      <td>0</td>\n",
              "      <td>0</td>\n",
              "      <td>0</td>\n",
              "      <td>...</td>\n",
              "      <td>0</td>\n",
              "      <td>0</td>\n",
              "      <td>0</td>\n",
              "      <td>0</td>\n",
              "      <td>0</td>\n",
              "      <td>0</td>\n",
              "      <td>0</td>\n",
              "      <td>0</td>\n",
              "      <td>0</td>\n",
              "      <td>0</td>\n",
              "    </tr>\n",
              "    <tr>\n",
              "      <th>1342</th>\n",
              "      <td>Given a string `s`. An awesome substring is a ...</td>\n",
              "      <td>0</td>\n",
              "      <td>0</td>\n",
              "      <td>1</td>\n",
              "      <td>0</td>\n",
              "      <td>0</td>\n",
              "      <td>0</td>\n",
              "      <td>0</td>\n",
              "      <td>0</td>\n",
              "      <td>0</td>\n",
              "      <td>...</td>\n",
              "      <td>0</td>\n",
              "      <td>0</td>\n",
              "      <td>0</td>\n",
              "      <td>0</td>\n",
              "      <td>0</td>\n",
              "      <td>0</td>\n",
              "      <td>0</td>\n",
              "      <td>0</td>\n",
              "      <td>0</td>\n",
              "      <td>0</td>\n",
              "    </tr>\n",
              "    <tr>\n",
              "      <th>437</th>\n",
              "      <td>You are given an array of binary strings `strs...</td>\n",
              "      <td>0</td>\n",
              "      <td>1</td>\n",
              "      <td>0</td>\n",
              "      <td>0</td>\n",
              "      <td>0</td>\n",
              "      <td>0</td>\n",
              "      <td>0</td>\n",
              "      <td>0</td>\n",
              "      <td>0</td>\n",
              "      <td>...</td>\n",
              "      <td>0</td>\n",
              "      <td>0</td>\n",
              "      <td>0</td>\n",
              "      <td>0</td>\n",
              "      <td>0</td>\n",
              "      <td>0</td>\n",
              "      <td>0</td>\n",
              "      <td>0</td>\n",
              "      <td>0</td>\n",
              "      <td>0</td>\n",
              "    </tr>\n",
              "  </tbody>\n",
              "</table>\n",
              "<p>10 rows × 44 columns</p>\n",
              "</div>\n",
              "      <button class=\"colab-df-convert\" onclick=\"convertToInteractive('df-23bcb97b-6a44-4d4c-968e-b0ffe703f288')\"\n",
              "              title=\"Convert this dataframe to an interactive table.\"\n",
              "              style=\"display:none;\">\n",
              "        \n",
              "  <svg xmlns=\"http://www.w3.org/2000/svg\" height=\"24px\"viewBox=\"0 0 24 24\"\n",
              "       width=\"24px\">\n",
              "    <path d=\"M0 0h24v24H0V0z\" fill=\"none\"/>\n",
              "    <path d=\"M18.56 5.44l.94 2.06.94-2.06 2.06-.94-2.06-.94-.94-2.06-.94 2.06-2.06.94zm-11 1L8.5 8.5l.94-2.06 2.06-.94-2.06-.94L8.5 2.5l-.94 2.06-2.06.94zm10 10l.94 2.06.94-2.06 2.06-.94-2.06-.94-.94-2.06-.94 2.06-2.06.94z\"/><path d=\"M17.41 7.96l-1.37-1.37c-.4-.4-.92-.59-1.43-.59-.52 0-1.04.2-1.43.59L10.3 9.45l-7.72 7.72c-.78.78-.78 2.05 0 2.83L4 21.41c.39.39.9.59 1.41.59.51 0 1.02-.2 1.41-.59l7.78-7.78 2.81-2.81c.8-.78.8-2.07 0-2.86zM5.41 20L4 18.59l7.72-7.72 1.47 1.35L5.41 20z\"/>\n",
              "  </svg>\n",
              "      </button>\n",
              "      \n",
              "  <style>\n",
              "    .colab-df-container {\n",
              "      display:flex;\n",
              "      flex-wrap:wrap;\n",
              "      gap: 12px;\n",
              "    }\n",
              "\n",
              "    .colab-df-convert {\n",
              "      background-color: #E8F0FE;\n",
              "      border: none;\n",
              "      border-radius: 50%;\n",
              "      cursor: pointer;\n",
              "      display: none;\n",
              "      fill: #1967D2;\n",
              "      height: 32px;\n",
              "      padding: 0 0 0 0;\n",
              "      width: 32px;\n",
              "    }\n",
              "\n",
              "    .colab-df-convert:hover {\n",
              "      background-color: #E2EBFA;\n",
              "      box-shadow: 0px 1px 2px rgba(60, 64, 67, 0.3), 0px 1px 3px 1px rgba(60, 64, 67, 0.15);\n",
              "      fill: #174EA6;\n",
              "    }\n",
              "\n",
              "    [theme=dark] .colab-df-convert {\n",
              "      background-color: #3B4455;\n",
              "      fill: #D2E3FC;\n",
              "    }\n",
              "\n",
              "    [theme=dark] .colab-df-convert:hover {\n",
              "      background-color: #434B5C;\n",
              "      box-shadow: 0px 1px 3px 1px rgba(0, 0, 0, 0.15);\n",
              "      filter: drop-shadow(0px 1px 2px rgba(0, 0, 0, 0.3));\n",
              "      fill: #FFFFFF;\n",
              "    }\n",
              "  </style>\n",
              "\n",
              "      <script>\n",
              "        const buttonEl =\n",
              "          document.querySelector('#df-23bcb97b-6a44-4d4c-968e-b0ffe703f288 button.colab-df-convert');\n",
              "        buttonEl.style.display =\n",
              "          google.colab.kernel.accessAllowed ? 'block' : 'none';\n",
              "\n",
              "        async function convertToInteractive(key) {\n",
              "          const element = document.querySelector('#df-23bcb97b-6a44-4d4c-968e-b0ffe703f288');\n",
              "          const dataTable =\n",
              "            await google.colab.kernel.invokeFunction('convertToInteractive',\n",
              "                                                     [key], {});\n",
              "          if (!dataTable) return;\n",
              "\n",
              "          const docLinkHtml = 'Like what you see? Visit the ' +\n",
              "            '<a target=\"_blank\" href=https://colab.research.google.com/notebooks/data_table.ipynb>data table notebook</a>'\n",
              "            + ' to learn more about interactive tables.';\n",
              "          element.innerHTML = '';\n",
              "          dataTable['output_type'] = 'display_data';\n",
              "          await google.colab.output.renderOutput(dataTable, element);\n",
              "          const docLink = document.createElement('div');\n",
              "          docLink.innerHTML = docLinkHtml;\n",
              "          element.appendChild(docLink);\n",
              "        }\n",
              "      </script>\n",
              "    </div>\n",
              "  </div>\n",
              "  "
            ]
          },
          "metadata": {},
          "execution_count": 45
        }
      ]
    },
    {
      "cell_type": "code",
      "source": [
        "inputs = df['description'].values\n",
        "inputs = [i.lower() for i in inputs]\n",
        "labels = df.iloc[:, 1:].values\n",
        "\n",
        "print(inputs[0])\n",
        "print(labels[0])"
      ],
      "metadata": {
        "colab": {
          "base_uri": "https://localhost:8080/"
        },
        "id": "CF7rcV4GhDQI",
        "outputId": "ebe8e99e-e427-497b-a81b-3535df4db645"
      },
      "execution_count": 46,
      "outputs": [
        {
          "output_type": "stream",
          "name": "stdout",
          "text": [
            "given an array of integers `nums` and an integer `target`, return indices of the two numbers such that they add up to `target`.\n",
            "\n",
            "you may assume that each input would have exactly one solution, and you may not use the same element twice.\n",
            "\n",
            "you can return the answer in any order.\n",
            "\n",
            "\n",
            "example 1:\n",
            "input: nums = [2,7,11,15], target = 9\n",
            "output: [0,1]\n",
            "output: because nums[0] + nums[1] == 9, we return [0, 1].\n",
            "\n",
            "example 2:\n",
            "input: nums = [3,2,4], target = 6\n",
            "output: [1,2]\n",
            "\n",
            "example 3:\n",
            "input: nums = [3,3], target = 6\n",
            "output: [0,1]\n",
            "\n",
            "constraints:\n",
            "`2 <= nums.length <= 103`\n",
            "`-109 <= nums[i] <= 109`\n",
            "`-109 <= target <= 109`\n",
            "only one valid answer exists.\n",
            "[1 0 0 0 0 0 0 1 0 0 0 0 0 0 0 0 0 0 0 0 0 0 0 0 0 0 0 0 0 0 0 0 0 0 0 0 0\n",
            " 0 0 0 0 0 0]\n"
          ]
        }
      ]
    },
    {
      "cell_type": "code",
      "source": [
        "target_cols = df.iloc[:, 1:].columns.tolist()\n",
        "print(target_cols)"
      ],
      "metadata": {
        "colab": {
          "base_uri": "https://localhost:8080/"
        },
        "id": "g2wgZ6sB2d6T",
        "outputId": "2e880ca2-7d9d-431a-cc84-16764ff0980f"
      },
      "execution_count": 47,
      "outputs": [
        {
          "output_type": "stream",
          "name": "stdout",
          "text": [
            "['Array', 'Dynamic Programming', 'String', 'Math', 'Tree', 'Depth-first Search', 'Greedy', 'Hash Table', 'Binary Search', 'Breadth-first Search', 'Sort', 'Two Pointers', 'Backtracking', 'Stack', 'Design', 'Graph', 'Bit Manipulation', 'Heap', 'Linked List', 'Recursion', 'Union Find', 'Sliding Window', 'Trie', 'Divide and Conquer', 'Segment Tree', 'Ordered Map', 'Queue', 'Minimax', 'Geometry', 'Binary Indexed Tree', 'Brainteaser', 'Topological Sort', 'Line Sweep', 'Random', 'Dequeue', 'Binary Search Tree', 'Suffix Array', 'Rolling Hash', 'Reservoir Sampling', 'Rejection Sampling', 'Memoization', 'OOP', 'Meet in the Middle']\n"
          ]
        }
      ]
    },
    {
      "cell_type": "code",
      "source": [
        "# Tokenize the data\n",
        "tokenizer = Tokenizer()\n",
        "tokenizer.fit_on_texts(inputs)\n",
        "sequences = tokenizer.texts_to_sequences(inputs)"
      ],
      "metadata": {
        "id": "e389DeX5vrqT"
      },
      "execution_count": 48,
      "outputs": []
    },
    {
      "cell_type": "code",
      "source": [
        "print(sequences[1])\n",
        "print(inputs[1])"
      ],
      "metadata": {
        "colab": {
          "base_uri": "https://localhost:8080/"
        },
        "id": "Yl4uOzlhv91c",
        "outputId": "9feac4a7-f8ac-4d06-8d15-550579a0528d"
      },
      "execution_count": 49,
      "outputs": [
        {
          "output_type": "stream",
          "name": "stdout",
          "text": [
            "[22, 20, 25, 58, 133, 114, 234, 531, 266, 58, 133, 328, 89, 1, 159, 20, 1700, 14, 648, 80, 9, 46, 6, 205, 81, 160, 7, 301, 289, 203, 1, 58, 141, 9, 23, 1, 91, 57, 7, 234, 78, 22, 115, 307, 1, 58, 141, 225, 61, 230, 69, 373, 312, 580, 1, 34, 4, 452, 10, 2, 11, 1946, 3, 13, 5, 2085, 16, 26, 13, 12, 27, 4, 51, 21, 5118, 5119, 5120, 10, 3, 11, 1946, 4, 2085, 4, 12, 4, 10, 5, 11, 1946, 45, 45, 45, 45, 45, 45, 45, 2085, 45, 45, 45, 45, 12, 51, 45, 45, 45, 4, 4, 4, 2, 37, 1, 34, 6, 81, 14, 46, 234, 78, 8, 14, 1, 105, 2, 73, 4, 56, 124, 45, 41, 8, 184, 24, 1, 78, 173, 7, 34, 24, 213, 61, 66, 373, 620]\n",
            "you are given two non-empty linked lists representing two non-negative integers. the digits are stored in reverse order, and each of their nodes contains a single digit. add the two numbers and return the sum as a linked list.\n",
            "\n",
            "you may assume the two numbers do not contain any leading zero, except the number 0 itself.\n",
            "\n",
            "\n",
            "example 1:\n",
            "input: l1 = [2,4,3], l2 = [5,6,4]\n",
            "output: [7,0,8]\n",
            "explanation: 342 + 465 = 807.\n",
            "\n",
            "\n",
            "example 2:\n",
            "input: l1 = [0], l2 = [0]\n",
            "output: [0]\n",
            "\n",
            "example 3:\n",
            "input: l1 = [9,9,9,9,9,9,9], l2 = [9,9,9,9]\n",
            "output: [8,9,9,9,0,0,0,1]\n",
            "\n",
            "constraints:\n",
            "the number of nodes in each linked list is in the range `[1, 100]`.\n",
            "\n",
            "`0 <= node.val <= 9`\n",
            "it is guaranteed that the list represents a number that does not have leading zeros.\n"
          ]
        }
      ]
    },
    {
      "cell_type": "code",
      "source": [
        "max_len = max([len(s) for s in sequences])\n",
        "padded_sequences = pad_sequences(sequences, maxlen=max_len)"
      ],
      "metadata": {
        "id": "2fthj8FSxMlp"
      },
      "execution_count": 50,
      "outputs": []
    },
    {
      "cell_type": "code",
      "source": [
        "input_layer = Input(shape=(max_len,))\n",
        "embedding_layer = Embedding(input_dim=len(tokenizer.word_index) + 1, output_dim=128)(input_layer)\n",
        "lstm_layer = LSTM(128)(embedding_layer)\n",
        "output_layer = Dense(43, activation='sigmoid')(lstm_layer)\n",
        "model = Model(inputs=input_layer, outputs=output_layer)\n",
        "\n",
        "model.compile(loss='binary_crossentropy', optimizer='adam', metrics=['accuracy'])"
      ],
      "metadata": {
        "id": "dIBcwKPYxjTE"
      },
      "execution_count": 51,
      "outputs": []
    },
    {
      "cell_type": "code",
      "source": [
        "# split some for test \n",
        "X_train, X_test, y_train, y_test = train_test_split(padded_sequences, labels, test_size=0.1, random_state=42)"
      ],
      "metadata": {
        "colab": {
          "base_uri": "https://localhost:8080/"
        },
        "id": "UxEEsU2HyGZy",
        "outputId": "cba1f7b1-1e5b-4e7f-8907-18b298b925c4"
      },
      "execution_count": 86,
      "outputs": [
        {
          "output_type": "stream",
          "name": "stdout",
          "text": [
            "(158, 896)\n",
            "(1413, 896)\n"
          ]
        }
      ]
    },
    {
      "cell_type": "code",
      "source": [
        "model.fit(X_train, y_train, epochs=10, batch_size=32, validation_split=0.2)"
      ],
      "metadata": {
        "id": "WhdnbjUW--hg"
      },
      "execution_count": null,
      "outputs": []
    },
    {
      "cell_type": "code",
      "source": [
        "def label_to_text(labels):\n",
        "    return [target_cols[i] for i in range(len(labels)) if labels[i]]"
      ],
      "metadata": {
        "id": "Ml0F1BgN2ZbC"
      },
      "execution_count": 53,
      "outputs": []
    },
    {
      "cell_type": "code",
      "source": [
        "from sklearn import metrics"
      ],
      "metadata": {
        "id": "0v_9laK34gSW"
      },
      "execution_count": 55,
      "outputs": []
    },
    {
      "cell_type": "code",
      "source": [
        "print(X_test.shape)\n",
        "print(X_train.shape)"
      ],
      "metadata": {
        "colab": {
          "base_uri": "https://localhost:8080/"
        },
        "id": "k-PpgLwb-Nz2",
        "outputId": "cd707afa-6768-42d7-8c70-a2a57cfb5e52"
      },
      "execution_count": 87,
      "outputs": [
        {
          "output_type": "stream",
          "name": "stdout",
          "text": [
            "(158, 896)\n",
            "(1413, 896)\n"
          ]
        }
      ]
    },
    {
      "cell_type": "code",
      "source": [
        "X_test1 = pad_sequences(tokenizer.texts_to_sequences(['Given a string s, find the length of the longest substring without repeating characters.']), maxlen=max_len)\n",
        "print(type(X_test1))\n",
        "y_pred1 = model.predict(X_test1)\n",
        "\n",
        "print(y_pred1)"
      ],
      "metadata": {
        "colab": {
          "base_uri": "https://localhost:8080/"
        },
        "id": "meoJ9htB_hm3",
        "outputId": "86178ad3-cf57-4729-e71f-52c58fccadaa"
      },
      "execution_count": 99,
      "outputs": [
        {
          "output_type": "stream",
          "name": "stdout",
          "text": [
            "<class 'numpy.ndarray'>\n",
            "1/1 [==============================] - 0s 81ms/step\n",
            "[[0.09927627 0.12463806 0.4777806  0.06370531 0.06461447 0.05752271\n",
            "  0.06866443 0.11527993 0.02918401 0.06636051 0.0381     0.04894514\n",
            "  0.06328255 0.0735985  0.03377885 0.04435901 0.04696668 0.01798249\n",
            "  0.0214706  0.01844105 0.02188412 0.0147563  0.01659179 0.01812822\n",
            "  0.00997185 0.0076053  0.00611882 0.00449055 0.00809954 0.00392858\n",
            "  0.0045638  0.00533345 0.00457201 0.00221565 0.00571381 0.00342663\n",
            "  0.00465457 0.0017565  0.0033142  0.00085898 0.00246134 0.00075346\n",
            "  0.00062566]]\n"
          ]
        }
      ]
    },
    {
      "cell_type": "code",
      "source": [
        "print(X_test.shape)"
      ],
      "metadata": {
        "colab": {
          "base_uri": "https://localhost:8080/"
        },
        "id": "34yBuklLAXBP",
        "outputId": "42e36679-dc8a-4693-b191-8666eda1a598"
      },
      "execution_count": 97,
      "outputs": [
        {
          "output_type": "stream",
          "name": "stdout",
          "text": [
            "(158, 896)\n"
          ]
        }
      ]
    },
    {
      "cell_type": "code",
      "source": [
        "# test label count accuracy, select top number of labels from prediction based on original label count\n",
        "test_pred = model.predict(X_test)\n",
        "accuracies = []\n",
        "for i, res in enumerate(test_pred):\n",
        "    # if i == 5: break\n",
        "    top_n = np.argsort(res)[-y_test[i].sum():][::-1]\n",
        "    pred_labels = [0] * len(target_cols)\n",
        "    for j in top_n:\n",
        "        pred_labels[j] = 1\n",
        "    # print(f\"Original labels: {label_to_text(y_test[i])}\")\n",
        "    # print(f\"Predicted labels: {label_to_text(pred_labels)}\")\n",
        "    accuracies.append(metrics.accuracy_score(y_test[i], pred_labels))\n",
        "print(f'mean accuracy: {np.mean(accuracies)}')"
      ],
      "metadata": {
        "colab": {
          "base_uri": "https://localhost:8080/"
        },
        "id": "S4QLT6Kw3Yss",
        "outputId": "20728374-7505-431f-af76-db91ac65bccb"
      },
      "execution_count": 103,
      "outputs": [
        {
          "output_type": "stream",
          "name": "stdout",
          "text": [
            "5/5 [==============================] - 3s 516ms/step\n",
            "mean accuracy: 0.9420076538121871\n"
          ]
        }
      ]
    }
  ]
}